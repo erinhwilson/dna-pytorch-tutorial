{
 "cells": [
  {
   "cell_type": "markdown",
   "metadata": {},
   "source": [
    "# Build a Pytorch model to predict a score from a DNA sequence\n",
    "This tutorial shows some examples for how to build Pytorch models that take raw DNA sequences as input and feed it into a neural network that makes some sort of prediction about the sequence. \n",
    "\n",
    "This isn't necessarily \"the best\" way to do this, but when I was first learning, I had trouble finding a clear example and spent a lot of time looking through other more complex codebases. If you're just getting started with Pytorch and are also using DNA sequences as your input, perhaps this tutorial can be a helpful example of how to \"connect some Pytorch tubes together\"!"
   ]
  },
  {
   "cell_type": "code",
   "execution_count": 40,
   "metadata": {},
   "outputs": [],
   "source": [
    "from collections import defaultdict\n",
    "from itertools import product\n",
    "import matplotlib.pyplot as plt\n",
    "import numpy as np\n",
    "import pandas as pd\n",
    "import random\n",
    "import torch\n",
    "from torch import nn"
   ]
  },
  {
   "cell_type": "markdown",
   "metadata": {},
   "source": [
    "## 1. Generate synthetic data (practice task)"
   ]
  },
  {
   "cell_type": "markdown",
   "metadata": {},
   "source": [
    "Usually scientists might be interested in predicting something like a binding score, an expression strength, or classifying a TF binding event. But here, we are going to keep it simple: the goal in this tutorial is to observe if a deep learning model can learn to detect a very small, simple pattern in a DNA sequence and score it appropriately, just to convince ourselves that we have actually set up Pytorch to correctly learn from input that looks like a DNA sequence. \n",
    "\n",
    "So arbitrarily, let's say that given an 8-mer DNA sequence, we will score it based on the following rules:\n",
    "* A = 20 points\n",
    "* C = 17 points\n",
    "* G = 14 points\n",
    "* T = 11 points\n",
    "\n",
    "For every 8-mer, sum up its total points based on the nucleotides in its sequence, then take the average. \n",
    "For example, \n",
    "\n",
    "`AAAAAAAA` would score `20.0` \n",
    "\n",
    "(`mean(20 + 20 + 20 + 20 + 20 + 20 + 20 + 20) = 20.0`)  \n",
    "\n",
    "while `ACAAAAAA` would score `19.625` \n",
    "\n",
    "(`mean(20 + 17 + 20 + 20 + 20 + 20 + 20 + 20) = 19.625`)\n",
    "\n",
    "These values for the nucleotides are arbitrary. It's just a way to assign sequences a score for the purposes of our Pytorch practice.\n",
    "\n",
    "However, since many recent papers use methods like CNNs to automatically detect \"motifs,\" or short patterns in the DNA that can activate or repress a biological response, let's add one more piece to our scoring system. To simulate something motifs influencing gene expression, let's say a given sequence gets a `+10` bump if it has a `TAT` in it, and a `-10` bump if it has a `GCG` in it. Again, these motifs don't mean anything in real life, they are just a mechanism for simulating a really simple activation or repression effect. "
   ]
  },
  {
   "cell_type": "markdown",
   "metadata": {},
   "source": [
    "![](scoring.png)"
   ]
  },
  {
   "cell_type": "markdown",
   "metadata": {},
   "source": [
    "So let's implement this basic scoring function!"
   ]
  },
  {
   "cell_type": "code",
   "execution_count": 2,
   "metadata": {},
   "outputs": [],
   "source": [
    "def kmers(k):\n",
    "    '''Generate all k-mers for a given k'''\n",
    "    \n",
    "    return [''.join(x) for x in product(['A','C','G','T'], repeat=k)]"
   ]
  },
  {
   "cell_type": "code",
   "execution_count": 3,
   "metadata": {},
   "outputs": [
    {
     "name": "stdout",
     "output_type": "stream",
     "text": [
      "Total 8mers: 65536\n"
     ]
    }
   ],
   "source": [
    "seqs8 = kmers(8)\n",
    "print('Total 8mers:',len(seqs8))"
   ]
  },
  {
   "cell_type": "code",
   "execution_count": 4,
   "metadata": {},
   "outputs": [],
   "source": [
    "score_dict = {\n",
    "    'A':20,\n",
    "    'C':17,\n",
    "    'G':14,\n",
    "    'T':11\n",
    "}\n",
    "                  \n",
    "def score_seqs_motif(seqs):\n",
    "    '''\n",
    "    Calculate the scores for a list of sequences based on \n",
    "    the above score_dict\n",
    "    '''\n",
    "    data = []\n",
    "    for seq in seqs:\n",
    "        # get the average score by nucleotide\n",
    "        score = np.mean([score_dict[base] for base in seq])\n",
    "        \n",
    "        # give a + or - bump if this k-mer has a specific motif\n",
    "        if 'TAT' in seq:\n",
    "            score += 10\n",
    "        if 'GCG' in seq:\n",
    "            score -= 10\n",
    "        data.append([seq,score])\n",
    "        \n",
    "    df = pd.DataFrame(data, columns=['seq','score'])\n",
    "    return df"
   ]
  },
  {
   "cell_type": "code",
   "execution_count": 5,
   "metadata": {},
   "outputs": [
    {
     "data": {
      "text/html": [
       "<div>\n",
       "<style scoped>\n",
       "    .dataframe tbody tr th:only-of-type {\n",
       "        vertical-align: middle;\n",
       "    }\n",
       "\n",
       "    .dataframe tbody tr th {\n",
       "        vertical-align: top;\n",
       "    }\n",
       "\n",
       "    .dataframe thead th {\n",
       "        text-align: right;\n",
       "    }\n",
       "</style>\n",
       "<table border=\"1\" class=\"dataframe\">\n",
       "  <thead>\n",
       "    <tr style=\"text-align: right;\">\n",
       "      <th></th>\n",
       "      <th>seq</th>\n",
       "      <th>score</th>\n",
       "    </tr>\n",
       "  </thead>\n",
       "  <tbody>\n",
       "    <tr>\n",
       "      <th>0</th>\n",
       "      <td>AAAAAAAA</td>\n",
       "      <td>20.000</td>\n",
       "    </tr>\n",
       "    <tr>\n",
       "      <th>1</th>\n",
       "      <td>AAAAAAAC</td>\n",
       "      <td>19.625</td>\n",
       "    </tr>\n",
       "    <tr>\n",
       "      <th>2</th>\n",
       "      <td>AAAAAAAG</td>\n",
       "      <td>19.250</td>\n",
       "    </tr>\n",
       "    <tr>\n",
       "      <th>3</th>\n",
       "      <td>AAAAAAAT</td>\n",
       "      <td>18.875</td>\n",
       "    </tr>\n",
       "    <tr>\n",
       "      <th>4</th>\n",
       "      <td>AAAAAACA</td>\n",
       "      <td>19.625</td>\n",
       "    </tr>\n",
       "  </tbody>\n",
       "</table>\n",
       "</div>"
      ],
      "text/plain": [
       "        seq   score\n",
       "0  AAAAAAAA  20.000\n",
       "1  AAAAAAAC  19.625\n",
       "2  AAAAAAAG  19.250\n",
       "3  AAAAAAAT  18.875\n",
       "4  AAAAAACA  19.625"
      ]
     },
     "execution_count": 5,
     "metadata": {},
     "output_type": "execute_result"
    }
   ],
   "source": [
    "mer8 = score_seqs_motif(seqs8)\n",
    "mer8.head()"
   ]
  },
  {
   "cell_type": "markdown",
   "metadata": {},
   "source": [
    "Spot check scores of a couple seqs with motifs:"
   ]
  },
  {
   "cell_type": "code",
   "execution_count": 8,
   "metadata": {},
   "outputs": [
    {
     "data": {
      "text/html": [
       "<div>\n",
       "<style scoped>\n",
       "    .dataframe tbody tr th:only-of-type {\n",
       "        vertical-align: middle;\n",
       "    }\n",
       "\n",
       "    .dataframe tbody tr th {\n",
       "        vertical-align: top;\n",
       "    }\n",
       "\n",
       "    .dataframe thead th {\n",
       "        text-align: right;\n",
       "    }\n",
       "</style>\n",
       "<table border=\"1\" class=\"dataframe\">\n",
       "  <thead>\n",
       "    <tr style=\"text-align: right;\">\n",
       "      <th></th>\n",
       "      <th>seq</th>\n",
       "      <th>score</th>\n",
       "    </tr>\n",
       "  </thead>\n",
       "  <tbody>\n",
       "    <tr>\n",
       "      <th>21875</th>\n",
       "      <td>CCCCCTAT</td>\n",
       "      <td>25.875</td>\n",
       "    </tr>\n",
       "    <tr>\n",
       "      <th>59135</th>\n",
       "      <td>TGCGTTTT</td>\n",
       "      <td>2.500</td>\n",
       "    </tr>\n",
       "  </tbody>\n",
       "</table>\n",
       "</div>"
      ],
      "text/plain": [
       "            seq   score\n",
       "21875  CCCCCTAT  25.875\n",
       "59135  TGCGTTTT   2.500"
      ]
     },
     "execution_count": 8,
     "metadata": {},
     "output_type": "execute_result"
    }
   ],
   "source": [
    "mer8[mer8['seq'].isin(['TGCGTTTT','CCCCCTAT'])]"
   ]
  },
  {
   "cell_type": "markdown",
   "metadata": {},
   "source": [
    "As expected, the distribution of scores across all 8-mers has 3 groups:\n",
    "* No motif (centered around ~15)\n",
    "* contains `TAT` (~25)\n",
    "* contains `GCG` (~5)"
   ]
  },
  {
   "cell_type": "code",
   "execution_count": 9,
   "metadata": {},
   "outputs": [
    {
     "data": {
      "image/png": "[encoded data removed]",
      "text/plain": [
       "<Figure size 432x288 with 1 Axes>"
      ]
     },
     "metadata": {
      "needs_background": "light"
     },
     "output_type": "display_data"
    }
   ],
   "source": [
    "plt.hist(mer8['score'].values,bins=20)\n",
    "plt.title(\"8-mer with Motifs score distribution\")\n",
    "plt.xlabel(\"seq score\",fontsize=14)\n",
    "plt.ylabel(\"count\",fontsize=14)\n",
    "plt.show()"
   ]
  },
  {
   "cell_type": "markdown",
   "metadata": {},
   "source": [
    "Our goal is now to train a model to predict this score by looking at the DNA sequence."
   ]
  },
  {
   "cell_type": "markdown",
   "metadata": {},
   "source": [
    "## 2. Prepare data for Pytorch training\n",
    "For neural networks to make predictions, you have to give it your input as a matrix of numbers. For example, to classify images by whether or not they contain a cat, a network \"sees\" the image as a matrix of pixel values and learns relevant patterns in the relative arragnement of pixels (e.g. patterns that correspond to cat ears, or a nose with whiskers). \n",
    "\n",
    "We similarly need to turn our DNA sequences (strings of ACGTs) into a matrix of numbers. So how do we pretend our DNA is a cat? \n",
    "\n",
    "One common strategy is to one-hot encode the DNA: treat each nucleotide as a vector of length 4, where 3 positions are 0 and one position is a 1, depending on the nucleotide."
   ]
  },
  {
   "cell_type": "markdown",
   "metadata": {},
   "source": [
    "![](cat.png)"
   ]
  },
  {
   "cell_type": "markdown",
   "metadata": {},
   "source": [
    "This one-hot encoding has the nice property that it makes you DNA appear like how a computer sees a picture of a cat!"
   ]
  },
  {
   "cell_type": "code",
   "execution_count": 30,
   "metadata": {},
   "outputs": [],
   "source": [
    "def one_hot_encode(seq):\n",
    "    \"\"\"\n",
    "    Given a DNA sequence, return its one-hot encoding\n",
    "    \"\"\"\n",
    "    # Make sure seq has only allowed bases\n",
    "    allowed = set(\"ACTGN\")\n",
    "    if not set(seq).issubset(allowed):\n",
    "        invalid = set(seq) - allowed\n",
    "        raise ValueError(f\"Sequence contains chars not in allowed DNA alphabet (ACGTN): {invalid}\")\n",
    "        \n",
    "    # Dictionary returning one-hot encoding for each nucleotide \n",
    "    nuc_d = {'A':[1.0,0.0,0.0,0.0],\n",
    "             'C':[0.0,1.0,0.0,0.0],\n",
    "             'G':[0.0,0.0,1.0,0.0],\n",
    "             'T':[0.0,0.0,0.0,1.0],\n",
    "             'N':[0.0,0.0,0.0,0.0]}\n",
    "    \n",
    "    # Create array from nucleotide sequence\n",
    "    # TODO: can this just be a torch.tensor right here?\n",
    "    vec=np.array([nuc_d[x] for x in seq])\n",
    "        \n",
    "    return vec"
   ]
  },
  {
   "cell_type": "code",
   "execution_count": 31,
   "metadata": {},
   "outputs": [
    {
     "name": "stdout",
     "output_type": "stream",
     "text": [
      "AAAAAA:\n",
      " [[1. 0. 0. 0.]\n",
      " [1. 0. 0. 0.]\n",
      " [1. 0. 0. 0.]\n",
      " [1. 0. 0. 0.]\n",
      " [1. 0. 0. 0.]\n",
      " [1. 0. 0. 0.]\n",
      " [1. 0. 0. 0.]\n",
      " [1. 0. 0. 0.]]\n",
      "AGGTACC:\n",
      " [[1. 0. 0. 0.]\n",
      " [0. 0. 1. 0.]\n",
      " [0. 0. 1. 0.]\n",
      " [0. 0. 0. 1.]\n",
      " [1. 0. 0. 0.]\n",
      " [0. 1. 0. 0.]\n",
      " [0. 1. 0. 0.]\n",
      " [0. 0. 0. 1.]]\n",
      "shape: (8, 4)\n"
     ]
    }
   ],
   "source": [
    "# look DNA seq of 8 As\n",
    "a8 = one_hot_encode(\"AAAAAAAA\")\n",
    "print(\"AAAAAA:\\n\",a8)\n",
    "\n",
    "# look at DNA seq of random nucleotides\n",
    "s = one_hot_encode(\"AGGTACCT\")\n",
    "print(\"AGGTACC:\\n\",s)\n",
    "print(\"shape:\",s.shape)"
   ]
  },
  {
   "cell_type": "markdown",
   "metadata": {},
   "source": [
    "With this one-hot encoding scheme, we can prepare our train, val, and test sets. This `quick_split` just randomly picks some indices in the pandas dataframe to split (sklearn has a function to do this too). "
   ]
  },
  {
   "cell_type": "code",
   "execution_count": 47,
   "metadata": {},
   "outputs": [],
   "source": [
    "def quick_split(df, split_frac=0.8, verbose=False):\n",
    "    '''\n",
    "    Given a df of samples, randomly split indices between\n",
    "    train and test at the desired fraction\n",
    "    '''\n",
    "    cols = df.columns\n",
    "    df = df.reset_index()\n",
    "\n",
    "    # shuffle indices\n",
    "    idxs = list(range(df.shape[0]))\n",
    "    random.shuffle(idxs)\n",
    "\n",
    "    # split shuffled index list by split_frac\n",
    "    split = int(len(idxs)*split_frac)\n",
    "    train_idxs = idxs[:split]\n",
    "    test_idxs = idxs[split:]\n",
    "    \n",
    "    # split dfs and return\n",
    "    train_df = df[df.index.isin(train_idxs)]\n",
    "    test_df = df[df.index.isin(test_idxs)]\n",
    "        \n",
    "    return train_df[cols], test_df[cols]"
   ]
  },
  {
   "cell_type": "code",
   "execution_count": 48,
   "metadata": {},
   "outputs": [
    {
     "name": "stdout",
     "output_type": "stream",
     "text": [
      "Train: (41942, 2)\n",
      "Val: (10486, 2)\n",
      "Test: (13108, 2)\n"
     ]
    }
   ],
   "source": [
    "full_train_df, test_df = quick_split(mer8)\n",
    "train_df, val_df = quick_split(full_train_df)\n",
    "\n",
    "print(\"Train:\", train_df.shape)\n",
    "print(\"Val:\", val_df.shape)\n",
    "print(\"Test:\", test_df.shape)"
   ]
  },
  {
   "cell_type": "code",
   "execution_count": 69,
   "metadata": {},
   "outputs": [],
   "source": [
    "def plot_train_test_hist(train_df, val_df,test_df,bins=20):\n",
    "    ''' Check distribution of train/test scores, sanity check that its not skewed'''\n",
    "    plt.hist(train_df['score'].values,bins=bins,label='train',alpha=0.5)\n",
    "    plt.hist(val_df['score'].values,bins=bins,label='val',alpha=0.75)\n",
    "    plt.hist(test_df['score'].values,bins=bins,label='test',alpha=0.4)\n",
    "    plt.legend()\n",
    "    plt.xlabel(\"seq score\",fontsize=14)\n",
    "    plt.ylabel(\"count\",fontsize=14)\n",
    "    plt.show()"
   ]
  },
  {
   "cell_type": "code",
   "execution_count": 70,
   "metadata": {},
   "outputs": [
    {
     "data": {
      "image/png": "[encoded data removed]",
      "text/plain": [
       "<Figure size 432x288 with 1 Axes>"
      ]
     },
     "metadata": {
      "needs_background": "light"
     },
     "output_type": "display_data"
    }
   ],
   "source": [
    "plot_train_test_hist(train_df, val_df,test_df)"
   ]
  },
  {
   "cell_type": "markdown",
   "metadata": {},
   "source": [
    "But the real trick here is using the Pytorch [DataLoader and Dataset](https://pytorch.org/tutorials/beginner/basics/data_tutorial.html) objects. It took me a lot of googling around to figure something out, but this is a solution I was able to concoct from a lot of combing through docs and stack overflow posts!\n",
    "\n",
    "In short, a Dataset wraps your data in an object that can smoothly give your properly formatted X examples and Y labels to the model you're training. The DataLoader accepts a Dataset and some other details about how to form batches from your data and makes it easier to iterate through training steps."
   ]
  },
  {
   "cell_type": "code",
   "execution_count": 33,
   "metadata": {},
   "outputs": [],
   "source": [
    "from torch.utils.data import Dataset, DataLoader"
   ]
  },
  {
   "cell_type": "markdown",
   "metadata": {},
   "source": [
    "#### Here is a custom defined Dataset object specialized for one-hot encoded DNA:\n"
   ]
  },
  {
   "cell_type": "code",
   "execution_count": 34,
   "metadata": {},
   "outputs": [],
   "source": [
    "class SeqDatasetOHE(Dataset):\n",
    "    '''\n",
    "    Dataset for one-hot-encoded sequences\n",
    "    '''\n",
    "    def __init__(self,\n",
    "                 df,\n",
    "                 seq_col='seq',\n",
    "                 target_col='score'\n",
    "                ):\n",
    "        # +--------------------+\n",
    "        # | Get the X examples |\n",
    "        # +--------------------+\n",
    "        # extract the DNA from the appropriate column in the df\n",
    "        self.seqs = list(df[seq_col].values)\n",
    "        self.seq_len = len(self.seqs[0])\n",
    "        \n",
    "        # one-hot encode sequences, then stack in a torch tensor\n",
    "        self.ohe_seqs = torch.stack([torch.tensor(one_hot_encode(x)) for x in self.seqs])\n",
    "    \n",
    "        # +------------------+\n",
    "        # | Get the Y labels |\n",
    "        # +------------------+\n",
    "        self.labels = torch.tensor(list(df[target_col].values)).unsqueeze(1)\n",
    "        \n",
    "    def __len__(self): return len(self.seqs)\n",
    "    \n",
    "    def __getitem__(self,idx):\n",
    "        # Given an index, return a tuple of an X with it's associated Y\n",
    "        # This is called inside DataLoader\n",
    "        seq = self.ohe_seqs[idx]\n",
    "        label = self.labels[idx]\n",
    "        \n",
    "        return seq, label"
   ]
  },
  {
   "cell_type": "markdown",
   "metadata": {},
   "source": [
    "#### Here is how I constructed DataLoaders from Datasets. "
   ]
  },
  {
   "cell_type": "code",
   "execution_count": 53,
   "metadata": {},
   "outputs": [],
   "source": [
    "def build_dataloaders(train_df,\n",
    "                      test_df,\n",
    "                      seq_col='seq',\n",
    "                      target_col='score',\n",
    "                      batch_size=128,\n",
    "                      shuffle=True\n",
    "                     ):\n",
    "    '''\n",
    "    Given a train and test df with some batch construction\n",
    "    details, put them into custom SeqDatasetOHE() objects. \n",
    "    Give the Datasets to the DataLoaders and return.\n",
    "    '''\n",
    "    \n",
    "    # create Datasets    \n",
    "    train_ds = SeqDatasetOHE(train_df,seq_col=seq_col,target_col=target_col)\n",
    "    test_ds = SeqDatasetOHE(test_df,seq_col=seq_col,target_col=target_col)\n",
    "\n",
    "    # Put DataSets into DataLoaders\n",
    "    train_dl = DataLoader(train_ds, batch_size=batch_size, shuffle=shuffle)\n",
    "    #test_dl = DataLoader(test_ds, batch_size=batch_size * 2)\n",
    "    # TODO: What is the reason for this?\n",
    "    test_dl = DataLoader(test_ds, batch_size=batch_size)\n",
    "\n",
    "    \n",
    "    return train_dl,test_dl"
   ]
  },
  {
   "cell_type": "code",
   "execution_count": 83,
   "metadata": {},
   "outputs": [],
   "source": [
    "train_dl, val_dl = build_dataloaders(train_df, val_df)"
   ]
  },
  {
   "cell_type": "code",
   "execution_count": 71,
   "metadata": {},
   "outputs": [],
   "source": [
    "# # inspect some stuff about a batch\n",
    "# for xb, yb in mer8_train_dl:\n",
    "#     break\n",
    "    \n",
    "# print(xb.shape)\n",
    "# print(xb.permute(0,2,1).unsqueeze(1).shape)"
   ]
  },
  {
   "cell_type": "markdown",
   "metadata": {},
   "source": [
    "These dataloaders are now ready to be used in a training loop!"
   ]
  },
  {
   "cell_type": "markdown",
   "metadata": {},
   "source": [
    "## 3. Define Pytorch models\n",
    "The primary model I was interested in trying was a Convolutional Neural Network, as these have been shown to be useful for learning motifs from genomic data. But as a point of comparison, I included a simple Linear model. Here are some model definitions:"
   ]
  },
  {
   "cell_type": "code",
   "execution_count": 90,
   "metadata": {},
   "outputs": [],
   "source": [
    "class DNA_Linear(nn.Module):\n",
    "    def __init__(self, seq_len):\n",
    "        super().__init__()\n",
    "        self.seq_len = seq_len\n",
    "        # the 4 is for our one-hot encoded vector length 4!\n",
    "        self.lin = nn.Linear(4*seq_len, 1)\n",
    "\n",
    "    def forward(self, xb):\n",
    "        # Linear wraps up the weights/bias dot product operations\n",
    "        # reshape to flatten sequence dimension\n",
    "        xb = xb.view(xb.shape[0],self.seq_len*4)\n",
    "        out = self.lin(xb)\n",
    "        return out\n",
    "\n",
    "    \n",
    "class DNA_CNN(nn.Module):\n",
    "    def __init__(self,\n",
    "                 seq_len,\n",
    "                 num_filters=32,\n",
    "                 kernel_size=3):\n",
    "        super().__init__()\n",
    "        self.seq_len = seq_len\n",
    "        \n",
    "        self.conv_net = nn.Sequential(\n",
    "            nn.Conv1d(4, num_filters, kernel_size=kernel_size),\n",
    "            nn.ReLU(inplace=True),\n",
    "            nn.Flatten(),\n",
    "            nn.Linear(num_filters*(seq_len-kernel_size+1), 1)\n",
    "        ) \n",
    "\n",
    "    def forward(self, xb):\n",
    "        # reshape view to batch_ssize x 4channel x seq_len\n",
    "        # permute to put channel in correct order\n",
    "        #xb = xb.view(-1,self.seq_len,4).permute(0,2,1) \n",
    "        xb = xb.permute(0,2,1) \n",
    "        # OHE FIX??\n",
    "        \n",
    "        #print(xb.shape)\n",
    "        out = self.conv_net(xb)\n",
    "        #print(\"CNN out shape:\",out.shape)\n",
    "        return out\n",
    "    \n",
    "    # does this work with Conv1D?"
   ]
  },
  {
   "cell_type": "code",
   "execution_count": 91,
   "metadata": {},
   "outputs": [],
   "source": [
    "seq_len = len(train_df['seq'].values[0])\n",
    "\n",
    "model_lin = DNA_Linear(seq_len)"
   ]
  },
  {
   "cell_type": "code",
   "execution_count": 96,
   "metadata": {},
   "outputs": [],
   "source": [
    "# +--------------------------------+\n",
    "# | Training and fitting functions |\n",
    "# +--------------------------------+\n",
    "\n",
    "def loss_batch(model, loss_func, xb, yb, opt=None,verbose=False):\n",
    "    '''\n",
    "    Apply loss function to a batch of inputs. If no optimizer\n",
    "    is provided, skip the back prop step.\n",
    "    '''\n",
    "    if verbose:\n",
    "        print('loss batch ****')\n",
    "        print(\"xb shape:\",xb.shape)\n",
    "        print(\"yb shape:\",yb.shape)\n",
    "        print(\"yb shape:\",yb.squeeze(1).shape)\n",
    "        #print(\"yb\",yb)\n",
    "\n",
    "    xb_out = model(xb.float())\n",
    "    if verbose:\n",
    "        print(\"model out pre loss\", xb_out.shape)\n",
    "        #print('xb_out', xb_out)\n",
    "        print(\"xb_out:\",xb_out.shape)\n",
    "        print(\"yb:\",yb.shape)\n",
    "        print(\"yb.long:\",yb.long().shape)\n",
    "    \n",
    "    loss = loss_func(xb_out, yb.float()) # for MSE/regression\n",
    "    #loss = loss_func(xb_out, yb.long().squeeze(1))\n",
    "    # ^^ changes for CrossEntropyLoss...\n",
    "\n",
    "    if opt is not None: # if opt\n",
    "        loss.backward()\n",
    "        opt.step()\n",
    "        opt.zero_grad()\n",
    "\n",
    "    #print(\"lb returning:\",loss.item(), len(xb))\n",
    "    return loss.item(), len(xb)\n",
    "\n",
    "\n",
    "def train_step(model, train_dl, loss_func, device, opt):\n",
    "    '''\n",
    "    Execute 1 set of batched training within an epoch\n",
    "    '''\n",
    "    # Set model to Training mode\n",
    "    model.train()\n",
    "    tl = [] # train losses\n",
    "    ns = [] # batch sizes, n\n",
    "    # collect train loss; provide opt so backpropo happens\n",
    "    for xb, yb in train_dl:\n",
    "        # put on GPU\n",
    "        xb, yb = xb.to(device),yb.to(device)\n",
    "\n",
    "        t, n = loss_batch(model, loss_func, xb, yb, opt=opt)\n",
    "        tl.append(t)\n",
    "        ns.append(n)\n",
    "    \n",
    "    # average the losses over all batches    \n",
    "    train_loss = np.sum(np.multiply(tl, ns)) / np.sum(ns)\n",
    "    \n",
    "    return train_loss\n",
    "\n",
    "def val_step(model, val_dl, loss_func, device):\n",
    "    '''\n",
    "    Execute 1 set of batched validation within an epoch\n",
    "    '''\n",
    "    # Set model to Evaluation mode\n",
    "    model.eval()\n",
    "    with torch.no_grad():\n",
    "        vl = [] # val losses\n",
    "        ns = [] # batch sizes\n",
    "        for xb, yb in val_dl:\n",
    "            # put on GPU\n",
    "            xb, yb = xb.to(device),yb.to(device)\n",
    "\n",
    "            v, n = loss_batch(model, loss_func, xb, yb)\n",
    "            vl.append(v)\n",
    "            ns.append(n)\n",
    "\n",
    "    # average the losses over all batches\n",
    "    val_loss = np.sum(np.multiply(vl, ns)) / np.sum(ns)\n",
    "    \n",
    "    return val_loss\n",
    "\n",
    "\n",
    "def fit(epochs, model, loss_func, opt, train_dl, val_dl,device,patience=1000):\n",
    "    '''\n",
    "    Fit the model params to the training data, eval on unseen data.\n",
    "    Loop for a number of epochs and keep train of train and val losses \n",
    "    along the way\n",
    "    '''\n",
    "    # keep track of losses\n",
    "    train_losses = []    \n",
    "    val_losses = []\n",
    "    \n",
    "#     # create early stopping object\n",
    "#     early_stopping = EarlyStopping(patience=patience, verbose=False)\n",
    "    \n",
    "    # loops through epochs\n",
    "    for epoch in range(epochs): #tqdm?\n",
    "#     with tqdm.trange(epochs) as pbar:\n",
    "#         for i in pbar:\n",
    "        train_loss = train_step(model, train_dl, loss_func, device,opt)\n",
    "        train_losses.append(train_loss)\n",
    "\n",
    "\n",
    "        val_loss = val_step(model, val_dl, loss_func, device)\n",
    "        #print(epoch, val_loss)\n",
    "        val_losses.append(val_loss)\n",
    "            \n",
    "#             pbar.set_description(f\"E:{i} | train loss:{train_loss:.3f} | val loss: {val_loss:.3f}\")\n",
    "            \n",
    "            # copied from https://github.com/Bjarten/early-stopping-pytorch/blob/master/MNIST_Early_Stopping_example.ipynb\n",
    "            # early_stopping needs the validation loss to check if it has decresed, \n",
    "            # and if it has, it will make a checkpoint of the current model\n",
    "#             early_stopping(val_loss, model,i)\n",
    "\n",
    "#             if early_stopping.early_stop:\n",
    "#                 print(\"Early stopping\")\n",
    "#                 break\n",
    "    \n",
    "    # Epoch and value of best model checkpoint\n",
    "#     estop = early_stopping.best_model_epoch\n",
    "#     best_val_score = early_stopping.val_loss_min \n",
    "\n",
    "    # load the last checkpoint with the best model\n",
    "#     model.load_state_dict(torch.load('checkpoint.pt'))\n",
    "    # ^^ Does this need to be returned? I dont' think so... loads in place\n",
    "\n",
    "    return train_losses, val_losses#,estop,best_val_score\n",
    "\n",
    "\n",
    "def run_model(train_dl,val_dl, model, loss_func, device,lr=0.01, epochs=20, opt=None):\n",
    "    '''\n",
    "    Given data and a model type, run dataloaders with MSE loss and SGD opt\n",
    "    '''\n",
    "    # define optimizer\n",
    "    if opt:\n",
    "        optimizer = opt\n",
    "    else: # if no opt provided, just use SGD\n",
    "        optimizer = torch.optim.SGD(model.parameters(), lr=lr) \n",
    "    \n",
    "    # run the training loop\n",
    "    train_losses, val_losses = fit(epochs, model, loss_func, optimizer, train_dl, test_dl, device)\n",
    "#     train_losses, \\\n",
    "#     val_losses,\\\n",
    "#     epoch_stop,\\\n",
    "#     best_val_score = fit(epochs, model, loss_func, optimizer, train_dl, val_dl,device)\n",
    "\n",
    "    return model, train_losses, val_losses\n",
    "    #return train_losses, val_losses, epoch_stop, best_val_score"
   ]
  },
  {
   "cell_type": "code",
   "execution_count": null,
   "metadata": {},
   "outputs": [],
   "source": []
  },
  {
   "cell_type": "code",
   "execution_count": 93,
   "metadata": {},
   "outputs": [
    {
     "data": {
      "text/plain": [
       "device(type='cuda')"
      ]
     },
     "execution_count": 93,
     "metadata": {},
     "output_type": "execute_result"
    }
   ],
   "source": [
    "DEVICE = torch.device('cuda' if torch.cuda.is_available() else 'cpu')\n",
    "DEVICE"
   ]
  },
  {
   "cell_type": "code",
   "execution_count": 94,
   "metadata": {},
   "outputs": [
    {
     "data": {
      "text/plain": [
       "DNA_Linear(\n",
       "  (lin): Linear(in_features=32, out_features=1, bias=True)\n",
       ")"
      ]
     },
     "execution_count": 94,
     "metadata": {},
     "output_type": "execute_result"
    }
   ],
   "source": [
    "model_lin.to(DEVICE)"
   ]
  },
  {
   "cell_type": "code",
   "execution_count": 97,
   "metadata": {},
   "outputs": [],
   "source": [
    "loss_func = torch.nn.MSELoss()\n",
    "m,lin_train_losses, lin_val_losses = run_model(\n",
    "    train_dl, \n",
    "    val_dl, \n",
    "    model_lin,\n",
    "    loss_func,\n",
    "    DEVICE\n",
    ")"
   ]
  },
  {
   "cell_type": "code",
   "execution_count": 99,
   "metadata": {},
   "outputs": [
    {
     "data": {
      "text/plain": [
       "[13.152802312553735,\n",
       " 13.152917835381839,\n",
       " 13.184130444000086,\n",
       " 13.159280503225899,\n",
       " 13.15374952524008,\n",
       " 13.14685671051654,\n",
       " 13.145709527441502,\n",
       " 13.156948304235446,\n",
       " 13.145646859961522,\n",
       " 13.146106549535297,\n",
       " 13.158532394745322,\n",
       " 13.169095256731934,\n",
       " 13.148248721778836,\n",
       " 13.144236608472871,\n",
       " 13.145988883441035,\n",
       " 13.149706992397276,\n",
       " 13.142403423251848,\n",
       " 13.153207543922612,\n",
       " 13.16568323612304,\n",
       " 13.151675434756456]"
      ]
     },
     "execution_count": 99,
     "metadata": {},
     "output_type": "execute_result"
    }
   ],
   "source": [
    "lin_val_losses"
   ]
  },
  {
   "cell_type": "code",
   "execution_count": 111,
   "metadata": {},
   "outputs": [],
   "source": [
    "# to plot loss\n",
    "lin_data_label = [lin_train_losses,lin_val_losses,\"Lin\"]"
   ]
  },
  {
   "cell_type": "code",
   "execution_count": 112,
   "metadata": {},
   "outputs": [
    {
     "data": {
      "text/plain": [
       "3"
      ]
     },
     "execution_count": 112,
     "metadata": {},
     "output_type": "execute_result"
    }
   ],
   "source": [
    "len(lin_data_label)"
   ]
  },
  {
   "cell_type": "code",
   "execution_count": 108,
   "metadata": {},
   "outputs": [],
   "source": [
    "def quick_loss_plot(data_label_list,loss_type=\"MSE Loss\",sparse_n=0):\n",
    "    '''\n",
    "    For each train/test loss trajectory, plot loss by epoch\n",
    "    '''\n",
    "    for i,(train_data,test_data,label) in enumerate(data_label_list):    \n",
    "        plt.plot(train_data,linestyle='--',color=f\"C{i}\", label=f\"{label} Train\")\n",
    "        plt.plot(test_data,color=f\"C{i}\", label=f\"{label} Test\",linewidth=3.0)\n",
    "\n",
    "    plt.legend()\n",
    "    plt.ylabel(loss_type)\n",
    "    plt.xlabel(\"Epoch\")\n",
    "    plt.legend(bbox_to_anchor=(1,1),loc='upper left')\n",
    "    plt.show()"
   ]
  },
  {
   "cell_type": "code",
   "execution_count": 113,
   "metadata": {},
   "outputs": [
    {
     "data": {
      "image/png": "[encoded data removed]",
      "text/plain": [
       "<Figure size 432x288 with 1 Axes>"
      ]
     },
     "metadata": {
      "needs_background": "light"
     },
     "output_type": "display_data"
    }
   ],
   "source": [
    "quick_loss_plot([lin_data_label])"
   ]
  },
  {
   "cell_type": "code",
   "execution_count": 116,
   "metadata": {},
   "outputs": [
    {
     "data": {
      "text/plain": [
       "tensor([[7.1882]], device='cuda:0', grad_fn=<AddmmBackward>)"
      ]
     },
     "execution_count": 116,
     "metadata": {},
     "output_type": "execute_result"
    }
   ],
   "source": [
    "dna = \"GGGGGGGG\"\n",
    "dna_oh = torch.tensor(one_hot_encode(dna)).unsqueeze(0).float().to(DEVICE)\n",
    "model_lin(dna_oh)"
   ]
  },
  {
   "cell_type": "code",
   "execution_count": null,
   "metadata": {},
   "outputs": [],
   "source": [
    "quic"
   ]
  }
 ],
 "metadata": {
  "kernelspec": {
   "display_name": "Python 3",
   "language": "python",
   "name": "python3"
  },
  "language_info": {
   "codemirror_mode": {
    "name": "ipython",
    "version": 3
   },
   "file_extension": ".py",
   "mimetype": "text/x-python",
   "name": "python",
   "nbconvert_exporter": "python",
   "pygments_lexer": "ipython3",
   "version": "3.7.7"
  }
 },
 "nbformat": 4,
 "nbformat_minor": 4
}
